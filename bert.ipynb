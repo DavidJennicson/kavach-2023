{
 "cells": [
  {
   "cell_type": "code",
   "execution_count": 287,
   "outputs": [],
   "source": [
    "import pandas as pd\n",
    "\n",
    "# Convert the data list into a Pandas dataframe\n",
    "df=pd.read_excel('news1.xlsx')\n",
    "# Print the resulting dataframe"
   ],
   "metadata": {
    "collapsed": false,
    "pycharm": {
     "name": "#%%\n"
    }
   }
  },
  {
   "cell_type": "code",
   "execution_count": 288,
   "outputs": [],
   "source": [
    "le=list(df['Political Party Specific Inclination/Target Party'].unique())"
   ],
   "metadata": {
    "collapsed": false,
    "pycharm": {
     "name": "#%%\n"
    }
   }
  },
  {
   "cell_type": "code",
   "execution_count": 289,
   "outputs": [],
   "source": [
    "import pandas as pd\n",
    "from sklearn.ensemble import RandomForestClassifier\n",
    "from sklearn.model_selection import train_test_split\n",
    "from sklearn.preprocessing import LabelEncoder\n",
    "import pickle\n",
    "# Load the data\n",
    "sn=LabelEncoder()\n",
    "pl=LabelEncoder()\n",
    "spp=LabelEncoder()\n",
    "df['Sentiment Encoded']=sn.fit_transform(df['Sentiment Score'])\n",
    "df['Political Encoded']=pl.fit_transform(df['Political Inclination'])\n",
    "df['Specific']=pl.fit_transform(df['Political Party Specific Inclination/Target Party'])"
   ],
   "metadata": {
    "collapsed": false,
    "pycharm": {
     "name": "#%%\n"
    }
   }
  },
  {
   "cell_type": "code",
   "execution_count": 290,
   "outputs": [],
   "source": [
    "l=list(df['Specific'].unique())"
   ],
   "metadata": {
    "collapsed": false,
    "pycharm": {
     "name": "#%%\n"
    }
   }
  },
  {
   "cell_type": "code",
   "execution_count": 291,
   "outputs": [
    {
     "data": {
      "text/plain": "0      \"PM Modi Announces Rs 20 Lakh Crore Stimulus P...\n1      \"COVID-19 Cases Surge in India, Lockdown Exten...\n2            \"Opposition Demands Probe into Rafale Deal\"\n3      \"Indian Army Conducts Surgical Strike in Pakis...\n4      \"Delhi Police Arrests Student Activists in Sed...\n                             ...                        \n621    \"BJP's Swapan Dasgupta says Mamata Banerjee do...\n622    \"Karnataka govt to set up commission to examin...\n623    \"Congress leader Priyanka Gandhi slams Centre ...\n624    \"Uttar Pradesh CM Yogi Adityanath launches 'Mi...\n625    \"TMC's Mahua Moitra slams BJP over 'love jihad...\nName: Headline, Length: 626, dtype: object"
     },
     "execution_count": 291,
     "metadata": {},
     "output_type": "execute_result"
    }
   ],
   "source": [
    "df['Headline']"
   ],
   "metadata": {
    "collapsed": false,
    "pycharm": {
     "name": "#%%\n"
    }
   }
  },
  {
   "cell_type": "code",
   "execution_count": 292,
   "outputs": [
    {
     "data": {
      "text/plain": "0.6825396825396826"
     },
     "execution_count": 292,
     "metadata": {},
     "output_type": "execute_result"
    }
   ],
   "source": [
    "\n",
    "from sklearn.feature_extraction.text import TfidfVectorizer\n",
    "\n",
    "import pickle\n",
    "# Load the data\n",
    "\n",
    "\n",
    "# Define the labels\n",
    "\n",
    "\n",
    "# Apply label encoding to the labels\n",
    "df['Headline'] = df['Headline'].fillna('')\n",
    "\n",
    "# Convert the headlines into TF-IDF vectors\n",
    "vectorizer = TfidfVectorizer()\n",
    "tdm = vectorizer.fit_transform(df['Headline'])\n",
    "with open('tfidf_model.pkl', 'wb') as f:\n",
    "    pickle.dump((vectorizer,tdm), f)\n",
    "\n",
    "# Split the data into training and testing sets\n",
    "y = df['Specific']\n",
    "X_train, X_test, y_train, y_test = train_test_split(tdm, y, test_size=0.2, random_state=42)\n",
    "\n",
    "# Train a Random Forest model\n",
    "rf = RandomForestClassifier(n_estimators=10, random_state=42)\n",
    "rf.fit(X_train, y_train)\n",
    "\n",
    "# Make predictions on the test set\n",
    "y_pred = rf.predict(X_test)\n",
    "rf.score(X_test,y_test)\n",
    "\n",
    "# # Evaluate the model using the F1-score\n",
    "# from sklearn.metrics import f1_score\n",
    "# f1 = f1_score(y_test, y_pred, average='micro')\n",
    "# print(f\"F1-score: {f1}\")\n"
   ],
   "metadata": {
    "collapsed": false,
    "pycharm": {
     "name": "#%%\n"
    }
   }
  },
  {
   "cell_type": "code",
   "execution_count": 293,
   "outputs": [],
   "source": [
    "with open('rf_model.pkl', 'wb') as g:\n",
    "    pickle.dump(rf, g)"
   ],
   "metadata": {
    "collapsed": false,
    "pycharm": {
     "name": "#%%\n"
    }
   }
  },
  {
   "cell_type": "code",
   "execution_count": 294,
   "outputs": [],
   "source": [
    "with open('tfidf_model.pkl', 'rb') as f:\n",
    "    tfidf_vectorizer, tfidf_matrix = pickle.load(f)\n",
    "\n",
    "# Now you can use the loaded model to transform new documents\n",
    "new_doc = \"Mamta wins in delhi\"\n",
    "new_tfidf = tfidf_vectorizer.transform([new_doc])"
   ],
   "metadata": {
    "collapsed": false,
    "pycharm": {
     "name": "#%%\n"
    }
   }
  },
  {
   "cell_type": "code",
   "execution_count": 295,
   "outputs": [],
   "source": [
    "def find_party(num):\n",
    "    party=[{'party': 'BJP', 'number': 5},\n",
    " {'party': 'Congress', 'number': 14},\n",
    " {'party': 'Non-BJP Parties', 'number': 30},\n",
    " {'party': 'AAP', 'number': 0},\n",
    " {'party': 'TMC', 'number': 37},\n",
    " {'party': 'Neutral', 'number': 29},\n",
    " {'party': 'Farmer Unions', 'number': 17},\n",
    " {'party': 'Shiv Sena-Congress-NCP Alliance', 'number': 34},\n",
    " {'party': 'DMK', 'number': 16},\n",
    " {'party': 'BJP-JD(U) Alliance', 'number': 6},\n",
    " {'party': 'LDF', 'number': 24},\n",
    " {'party': 'Shiv Sena-NCP-Congress Alliance', 'number': 36},\n",
    " {'party': 'BJP-JDU Alliance', 'number': 8},\n",
    " {'party': 'BJD', 'number': 4},\n",
    " {'party': 'TRS', 'number': 38},\n",
    " {'party': 'LGBTQ+ Rights Activists', 'number': 25},\n",
    " {'party': 'Leftist', 'number': 26},\n",
    " {'party': 'CPI(M)', 'number': 11},\n",
    " {'party': 'YSRCP', 'number': 40},\n",
    " {'party': 'JMM-Congress', 'number': 23},\n",
    " {'party': 'Shiv Sena-NCP-Congress', 'number': 35},\n",
    " {'party': 'JDU-BJP', 'number': 21},\n",
    " {'party': 'Congress-JMM-RJD', 'number': 15},\n",
    " {'party': 'NCP-Congress', 'number': 27},\n",
    " {'party': 'BJP-JDU', 'number': 7},\n",
    " {'party': 'Shiv Sena', 'number': 33},\n",
    " {'party': 'AIADMK', 'number': 1},\n",
    " {'party': 'JD(U)', 'number': 19},\n",
    " {'party': 'JMM', 'number': 22},\n",
    " {'party': 'JDU', 'number': 20},\n",
    " {'party': 'None', 'number': 31},\n",
    " {'party': 'Indian National Congress', 'number': 18},\n",
    " {'party': 'Nationalist Congress Party', 'number': 28},\n",
    " {'party': 'Aam Aadmi Party', 'number': 2},\n",
    " {'party': 'Bharatiya Janata Party', 'number': 10},\n",
    " {'party': 'Communist Party of India (Marxist)', 'number': 13},\n",
    " {'party': 'Bahujan Samaj Party', 'number': 9},\n",
    " {'party': 'Communist Party of India', 'number': 12},\n",
    " {'party': 'Shiromani Akali Dal', 'number': 32},\n",
    " {'party': 'All India Trinamool Congress', 'number': 3},\n",
    " {'party': 'nan', 'number': 41},\n",
    " {'party': 'Trinamool Congress', 'number': 39}]\n",
    "    for x in party:\n",
    "        if x['number']==num:\n",
    "            print(x['party'])"
   ],
   "metadata": {
    "collapsed": false,
    "pycharm": {
     "name": "#%%\n"
    }
   }
  },
  {
   "cell_type": "code",
   "execution_count": 296,
   "outputs": [
    {
     "name": "stdout",
     "output_type": "stream",
     "text": [
      "[5]\n"
     ]
    }
   ],
   "source": [
    "with open('rf_model.pkl', 'rb') as f:\n",
    "    rf_classifier = pickle.load(f)\n",
    "new_labels = rf_classifier.predict(new_tfidf)\n",
    "print(new_labels)"
   ],
   "metadata": {
    "collapsed": false,
    "pycharm": {
     "name": "#%%\n"
    }
   }
  },
  {
   "cell_type": "code",
   "execution_count": 297,
   "outputs": [
    {
     "name": "stdout",
     "output_type": "stream",
     "text": [
      "BJP\n"
     ]
    }
   ],
   "source": [
    "find_party(new_labels)\n"
   ],
   "metadata": {
    "collapsed": false,
    "pycharm": {
     "name": "#%%\n"
    }
   }
  },
  {
   "cell_type": "code",
   "execution_count": 233,
   "outputs": [],
   "source": [],
   "metadata": {
    "collapsed": false,
    "pycharm": {
     "name": "#%%\n"
    }
   }
  },
  {
   "cell_type": "code",
   "execution_count": null,
   "outputs": [],
   "source": [],
   "metadata": {
    "collapsed": false,
    "pycharm": {
     "name": "#%%\n"
    }
   }
  }
 ],
 "metadata": {
  "kernelspec": {
   "display_name": "Python 3",
   "language": "python",
   "name": "python3"
  },
  "language_info": {
   "codemirror_mode": {
    "name": "ipython",
    "version": 2
   },
   "file_extension": ".py",
   "mimetype": "text/x-python",
   "name": "python",
   "nbconvert_exporter": "python",
   "pygments_lexer": "ipython2",
   "version": "2.7.6"
  }
 },
 "nbformat": 4,
 "nbformat_minor": 0
}